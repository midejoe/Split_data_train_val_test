{
 "cells": [
  {
   "cell_type": "markdown",
   "metadata": {},
   "source": [
    "## User defined function to split data into train set, validation set and test set"
   ]
  },
  {
   "cell_type": "code",
   "execution_count": null,
   "metadata": {},
   "outputs": [],
   "source": [
    "### user defined function to split datasets into train set, validation set and test set\n",
    "\n",
    "def split_train_valid_test(data, valid_ratio, test_ratio, shuffle=True, random_seed = 1):\n",
    "    \n",
    "    # store the permutation combinations of randomly selected indices into variable name 'shuffled indices'\n",
    "    shuffled_indices = np.random.permutation(len(data)) \n",
    "    \n",
    "    # to store the size of multiplication between validation ratio(between 0 and 1) and the length of the data into variable'valid_set_size'\n",
    "    valid_set_size = int(len(data) * valid_ratio)\n",
    "    \n",
    "    # to slice the indices up to the 'valid_set_size'\n",
    "    valid_indices = shuffled_indices[:valid_set_size]\n",
    "    \n",
    "    # to store the size of the multiplication between the test ratio(between 0 and 1) and the length of the data into variable 'test_set_size'\n",
    "    test_set_size = int(len(data) * test_ratio)\n",
    "    \n",
    "    # to slice the indices from the size of the valid_set up to the addition of 'test_set_size' and 'valid_set_size'\n",
    "    test_indices = shuffled_indices[valid_set_size:test_set_size + valid_set_size]\n",
    "    \n",
    "    # to slice the indices from the test_set_size to the difference between length of the data and valid_set_size\n",
    "    train_indices = shuffled_indices[test_set_size:len(data)-valid_set_size]\n",
    "    \n",
    "    # to check whether to shuffle or not\n",
    "    if shuffle:\n",
    "        \n",
    "        # store the permutation combinations of randomly selected indices with a random seed into variable name 'shuffled perm'\n",
    "        shuffled_perm = np.random.RandomState(random_seed).permutation(len(data))\n",
    "        \n",
    "        # to slice the indices up to the 'valid_set_size'\n",
    "        valid_indices = shuffled_perm[:valid_set_size]\n",
    "        \n",
    "        # to slice the indices from the size of the valid_set_size up to the addition of 'test_set_size' and 'valid_set_size'\n",
    "        test_indices = shuffled_perm[valid_set_size:test_set_size + valid_set_size]\n",
    "        \n",
    "         # to slice the indices from the test_set_size to the difference of the data length and valid_set_size\n",
    "        train_indices = shuffled_perm[test_set_size:len(data)-valid_set_size]\n",
    "    else:\n",
    "        \n",
    "        # to store evenly spaced elements of valid_set_size array into 'valid_indices'\n",
    "        valid_indices = np.arange(valid_set_size)\n",
    "        \n",
    "        # to store evenly spaced elements from  valid_set_size to the addition of test and valid set size into 'test_indices'\n",
    "        test_indices = np.arange(valid_set_size, test_set_size + valid_set_size)\n",
    "        \n",
    "        # to store evenly spaced elements from test_set_size to the difference of the data length and valid_set_size\n",
    "        train_indices = np.arange(test_set_size, len(data)-valid_set_size)\n",
    "        \n",
    "        # return the dataframe of train_indices, valid_indices and test_indices\n",
    "    return data.iloc[train_indices], data.iloc[valid_indices], data.iloc[test_indices]"
   ]
  }
 ],
 "metadata": {
  "kernelspec": {
   "display_name": "Python 3",
   "language": "python",
   "name": "python3"
  },
  "language_info": {
   "codemirror_mode": {
    "name": "ipython",
    "version": 3
   },
   "file_extension": ".py",
   "mimetype": "text/x-python",
   "name": "python",
   "nbconvert_exporter": "python",
   "pygments_lexer": "ipython3",
   "version": "3.7.0"
  }
 },
 "nbformat": 4,
 "nbformat_minor": 2
}
